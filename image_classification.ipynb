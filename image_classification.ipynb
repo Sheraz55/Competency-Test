{
  "nbformat": 4,
  "nbformat_minor": 0,
  "metadata": {
    "colab": {
      "name": "image classification.ipynb",
      "provenance": [],
      "authorship_tag": "ABX9TyOXEP+3/1NhSlxyqdr+be9m",
      "include_colab_link": true
    },
    "kernelspec": {
      "name": "python3",
      "display_name": "Python 3"
    },
    "language_info": {
      "name": "python"
    }
  },
  "cells": [
    {
      "cell_type": "markdown",
      "metadata": {
        "id": "view-in-github",
        "colab_type": "text"
      },
      "source": [
        "<a href=\"https://colab.research.google.com/github/Sheraz55/Competency-Test/blob/main/image_classification.ipynb\" target=\"_parent\"><img src=\"https://colab.research.google.com/assets/colab-badge.svg\" alt=\"Open In Colab\"/></a>"
      ]
    },
    {
      "cell_type": "code",
      "metadata": {
        "id": "grkBWvStiKPb"
      },
      "source": [
        "from tensorflow.keras.preprocessing.image import ImageDataGenerator\n",
        "from tensorflow.keras.preprocessing import image\n",
        "from tensorflow.keras.optimizers import RMSprop\n",
        "import matplotlib.pyplot as plt\n",
        "import tensorflow as tf\n",
        "import numpy as np\n",
        "import cv2\n",
        "import os"
      ],
      "execution_count": 3,
      "outputs": []
    },
    {
      "cell_type": "code",
      "metadata": {
        "id": "vzYiB1gglEqT"
      },
      "source": [
        "img = image.load_img()"
      ],
      "execution_count": null,
      "outputs": []
    },
    {
      "cell_type": "code",
      "metadata": {
        "id": "bgECkgzKlP6l"
      },
      "source": [
        ""
      ],
      "execution_count": null,
      "outputs": []
    },
    {
      "cell_type": "code",
      "metadata": {
        "id": "kcAIo2YXlQFl"
      },
      "source": [
        "cv2.imread()"
      ],
      "execution_count": null,
      "outputs": []
    },
    {
      "cell_type": "code",
      "metadata": {
        "id": "weJmiHy2lYJb"
      },
      "source": [
        "train = ImageDataGenerator(rescale=1/255)\n",
        "validation = ImageDataGenerator(rescale=1/255)"
      ],
      "execution_count": null,
      "outputs": []
    },
    {
      "cell_type": "code",
      "metadata": {
        "id": "mntlA8SwluML"
      },
      "source": [
        "train_dataset = train.flow_from_directory('path',  target_size = (200,200), batch_size= 3, class_mode= 'binary')\n",
        "validate_dataset = validate.flow_from_directory('path', target_size = (200,200), batch_size = 3, class_mode = 'binary')"
      ],
      "execution_count": null,
      "outputs": []
    },
    {
      "cell_type": "code",
      "metadata": {
        "id": "Ajp07aFhoupr"
      },
      "source": [
        "dir_path = ''\n",
        "for i in os.listdir(dir_path):\n",
        "  img = image.load_img(dir_path+'//'+ i)\n",
        "  plt.imshow()\n",
        "\n",
        "  X = image.img_to_array(img)\n",
        "  X = np.expand_dims(X, axis=0)\n",
        "  images = np.vstack([X])\n",
        "  val = model.predict(images)\n",
        "  if val == 0:\n",
        "    print(\"Not Happy\")\n",
        "  else:\n",
        "    print(\"Happy\")"
      ],
      "execution_count": null,
      "outputs": []
    }
  ]
}