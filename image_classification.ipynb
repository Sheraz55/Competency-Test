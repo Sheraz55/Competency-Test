{
  "nbformat": 4,
  "nbformat_minor": 0,
  "metadata": {
    "colab": {
      "name": "image classification.ipynb",
      "provenance": [],
      "collapsed_sections": [],
      "authorship_tag": "ABX9TyNEiEA9ROxzlU+DKDdlhu0c",
      "include_colab_link": true
    },
    "kernelspec": {
      "name": "python3",
      "display_name": "Python 3"
    },
    "language_info": {
      "name": "python"
    }
  },
  "cells": [
    {
      "cell_type": "markdown",
      "metadata": {
        "id": "view-in-github",
        "colab_type": "text"
      },
      "source": [
        "<a href=\"https://colab.research.google.com/github/Sheraz55/Competency-Test/blob/main/image_classification.ipynb\" target=\"_parent\"><img src=\"https://colab.research.google.com/assets/colab-badge.svg\" alt=\"Open In Colab\"/></a>"
      ]
    },
    {
      "cell_type": "code",
      "metadata": {
        "id": "grkBWvStiKPb"
      },
      "source": [
        "from tensorflow.keras.preprocessing.image import ImageDataGenerator\n",
        "from tensorflow.keras.preprocessing import image\n",
        "from tensorflow.keras.optimizers import RMSprop\n",
        "import matplotlib.pyplot as plt\n",
        "import tensorflow as tf\n",
        "import numpy as np\n",
        "import cv2\n",
        "import os"
      ],
      "execution_count": 1,
      "outputs": []
    },
    {
      "cell_type": "code",
      "metadata": {
        "id": "vzYiB1gglEqT"
      },
      "source": [
        "img = image.load_img('/var/train/CAT/download (1).jpg')"
      ],
      "execution_count": 5,
      "outputs": []
    },
    {
      "cell_type": "code",
      "metadata": {
        "id": "kcAIo2YXlQFl",
        "colab": {
          "base_uri": "https://localhost:8080/"
        },
        "outputId": "6f22a116-1ceb-40e1-f5f4-ecb8dc5fb26d"
      },
      "source": [
        "cv2.imread('/var/train/CAT/download (1).jpg').shape"
      ],
      "execution_count": 8,
      "outputs": [
        {
          "output_type": "execute_result",
          "data": {
            "text/plain": [
              "(168, 300, 3)"
            ]
          },
          "metadata": {
            "tags": []
          },
          "execution_count": 8
        }
      ]
    },
    {
      "cell_type": "code",
      "metadata": {
        "id": "weJmiHy2lYJb"
      },
      "source": [
        "train = ImageDataGenerator(rescale=1/255)\n",
        "validation = ImageDataGenerator(rescale=1/255)"
      ],
      "execution_count": 9,
      "outputs": []
    },
    {
      "cell_type": "code",
      "metadata": {
        "id": "mntlA8SwluML",
        "colab": {
          "base_uri": "https://localhost:8080/"
        },
        "outputId": "671ec033-22a9-40c3-9a8b-91fe8f5538ff"
      },
      "source": [
        "train_dataset = train.flow_from_directory('/var/train',  target_size = (200,200), batch_size= 3, class_mode= 'binary')\n"
      ],
      "execution_count": 21,
      "outputs": [
        {
          "output_type": "stream",
          "text": [
            "Found 24 images belonging to 3 classes.\n"
          ],
          "name": "stdout"
        }
      ]
    },
    {
      "cell_type": "code",
      "metadata": {
        "id": "cNQMkupdN2N_"
      },
      "source": [
        "model = tf.keras.models.Sequential([tf.keras.layers.Conv2D(16,(3,3), activation = 'relu', input_shape=(200,200,3)),\n",
        "                                    tf.keras.layers.MaxPool2D(2,2),\n",
        "                                    tf.keras.layers.Conv2D(32,(3,3), activation = 'relu'),\n",
        "                                    tf.keras.layers.MaxPool2D(2,2),\n",
        "                                    tf.keras.layers.Conv2D(64,(3,3), activation = 'relu'),\n",
        "                                    tf.keras.layers.MaxPool2D(2,2),\n",
        "                                    tf.keras.layers.Flatten(),\n",
        "                                    tf.keras.layers.Dense(512, activation = 'relu'),\n",
        "                                    tf.keras.layers.Dense(1, activation = 'sigmoid')\n",
        "                                    \n",
        "])"
      ],
      "execution_count": 22,
      "outputs": []
    },
    {
      "cell_type": "code",
      "metadata": {
        "id": "_SnAGG9hOHcF"
      },
      "source": [
        "model.compile(loss = 'binary_crossentropy', optimizer = 'rmsprop', metrics = ['accuracy'])"
      ],
      "execution_count": 29,
      "outputs": []
    },
    {
      "cell_type": "code",
      "metadata": {
        "colab": {
          "base_uri": "https://localhost:8080/"
        },
        "id": "6lByl4ZhOU7B",
        "outputId": "19e296a5-243b-490b-a769-c4b111932f43"
      },
      "source": [
        "model.fit(train_dataset, epochs = 10)"
      ],
      "execution_count": 32,
      "outputs": [
        {
          "output_type": "stream",
          "text": [
            "Epoch 1/10\n",
            "8/8 [==============================] - 3s 395ms/step - loss: -70399107072.0000 - accuracy: 0.5833\n",
            "Epoch 2/10\n",
            "8/8 [==============================] - 3s 380ms/step - loss: -75117920256.0000 - accuracy: 0.5833\n",
            "Epoch 3/10\n",
            "8/8 [==============================] - 3s 383ms/step - loss: -80038060032.0000 - accuracy: 0.5833\n",
            "Epoch 4/10\n",
            "8/8 [==============================] - 3s 379ms/step - loss: -85213323264.0000 - accuracy: 0.5833\n",
            "Epoch 5/10\n",
            "8/8 [==============================] - 3s 390ms/step - loss: -90879377408.0000 - accuracy: 0.5833\n",
            "Epoch 6/10\n",
            "8/8 [==============================] - 3s 380ms/step - loss: -97016324096.0000 - accuracy: 0.5833\n",
            "Epoch 7/10\n",
            "8/8 [==============================] - 3s 380ms/step - loss: -103505952768.0000 - accuracy: 0.5833\n",
            "Epoch 8/10\n",
            "8/8 [==============================] - 3s 384ms/step - loss: -110169989120.0000 - accuracy: 0.5833\n",
            "Epoch 9/10\n",
            "8/8 [==============================] - 3s 382ms/step - loss: -117230641152.0000 - accuracy: 0.5833\n",
            "Epoch 10/10\n",
            "8/8 [==============================] - 3s 383ms/step - loss: -124358844416.0000 - accuracy: 0.5833\n"
          ],
          "name": "stdout"
        },
        {
          "output_type": "execute_result",
          "data": {
            "text/plain": [
              "<tensorflow.python.keras.callbacks.History at 0x7f754647d510>"
            ]
          },
          "metadata": {
            "tags": []
          },
          "execution_count": 32
        }
      ]
    },
    {
      "cell_type": "code",
      "metadata": {
        "id": "Qf4WlXsWr9MG"
      },
      "source": [
        "train_dataset.class_indices"
      ],
      "execution_count": null,
      "outputs": []
    },
    {
      "cell_type": "code",
      "metadata": {
        "id": "Ajp07aFhoupr"
      },
      "source": [
        "dir_path = 'test'\n",
        "for i in os.listdir(dir_path):\n",
        "  img = image.load_img(dir_path+'//'+ i, target_size =(200,200))\n",
        "  plt.imshow()\n",
        "\n",
        "  X = image.img_to_array(img)\n",
        "  X = np.expand_dims(X, axis=0)\n",
        "  images = np.vstack([X])\n",
        "  val = model.predict(images)\n",
        "  if val == 0:\n",
        "    print(\"Not Happy\")\n",
        "  else:\n",
        "    print(\"Happy\")"
      ],
      "execution_count": null,
      "outputs": []
    }
  ]
}